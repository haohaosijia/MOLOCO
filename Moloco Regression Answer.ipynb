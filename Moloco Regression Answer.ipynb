{
 "cells": [
  {
   "cell_type": "markdown",
   "metadata": {},
   "source": [
    "# Moloco Regression Question"
   ]
  },
  {
   "cell_type": "markdown",
   "metadata": {},
   "source": [
    "To build a good regression model, generally we start from the linear regression model. Here I use the stochastic gradient dscent algorithm."
   ]
  },
  {
   "cell_type": "code",
   "execution_count": 1,
   "metadata": {},
   "outputs": [],
   "source": [
    "import pandas as pd\n",
    "import random\n",
    "import math\n",
    "import matplotlib.pyplot as plt"
   ]
  },
  {
   "cell_type": "markdown",
   "metadata": {},
   "source": [
    "Import csv data. Here I find an outlier, C value equals to -10000, so we first delete this point."
   ]
  },
  {
   "cell_type": "code",
   "execution_count": 2,
   "metadata": {},
   "outputs": [],
   "source": [
    "df = pd.read_csv(\"regression.csv\", header = None)\n",
    "data = df.values.tolist()\n",
    "for rows in data:\n",
    "    if rows[2] <= -10000.0:\n",
    "        data.remove(rows)"
   ]
  },
  {
   "cell_type": "markdown",
   "metadata": {},
   "source": [
    "Normalize dataset function"
   ]
  },
  {
   "cell_type": "code",
   "execution_count": 3,
   "metadata": {},
   "outputs": [],
   "source": [
    "def dataset_minmax(dataset):\n",
    "    minmax = []\n",
    "    for i in range(3):\n",
    "        col_values = [row[i] for row in dataset]\n",
    "        # print(col_values)\n",
    "        value_min = min(col_values)\n",
    "        # print(value_min)\n",
    "        value_max = max(col_values)\n",
    "        minmax.append([value_min, value_max])\n",
    "    return minmax\n",
    " \n",
    "# Rescale dataset columns to the range 0-1\n",
    "def normalize_dataset(dataset, minmax):\n",
    "    for row in dataset:\n",
    "        for i in range(3):\n",
    "            row[i] = (row[i] - minmax[i][0]) / (minmax[i][1] - minmax[i][0])"
   ]
  },
  {
   "cell_type": "markdown",
   "metadata": {},
   "source": [
    "cross validation split function"
   ]
  },
  {
   "cell_type": "code",
   "execution_count": 4,
   "metadata": {},
   "outputs": [],
   "source": [
    "# Split a dataset into k folds\n",
    "def cross_validation_split(dataset, n_folds):\n",
    "    dataset_split = []\n",
    "    dataset_copy = dataset.copy()\n",
    "    fold_size = int(len(dataset) / n_folds)\n",
    "    for i in range(n_folds):\n",
    "        fold = []\n",
    "        while len(fold) < fold_size:\n",
    "            index = random.randrange(len(dataset_copy))\n",
    "            fold.append(dataset_copy.pop(index))\n",
    "        dataset_split.append(fold)\n",
    "    return dataset_split"
   ]
  },
  {
   "cell_type": "markdown",
   "metadata": {},
   "source": [
    "Cost evaluation function."
   ]
  },
  {
   "cell_type": "code",
   "execution_count": 5,
   "metadata": {},
   "outputs": [],
   "source": [
    "# Calculate root mean squared error\n",
    "def rmse_metric(actual, predicted):\n",
    "    sum_error = 0.0\n",
    "    for i in range(len(actual)):\n",
    "        prediction_error = predicted[i] - actual[i]\n",
    "        sum_error += (prediction_error ** 2)\n",
    "    mean_error = sum_error / float(len(actual))\n",
    "    return math.sqrt(mean_error)\n",
    " \n",
    "# Evaluation\n",
    "def evaluate_algorithm(dataset, algorithm, n_folds, *args):\n",
    "    folds = cross_validation_split(dataset, n_folds)\n",
    "    scores = []\n",
    "    coef = []\n",
    "    for fold in folds:\n",
    "        train_set = folds.copy()\n",
    "        train_set.remove(fold)\n",
    "        train_set = sum(train_set, [])\n",
    "        test_set = []\n",
    "        for row in fold:\n",
    "            row_copy = row.copy()\n",
    "            test_set.append(row_copy)\n",
    "            row_copy[-1] = None\n",
    "        predicted, coefficient = algorithm(train_set, test_set, *args)\n",
    "        coef.append(coefficient)\n",
    "        actual = [row[-1] for row in fold]\n",
    "        rmse = rmse_metric(actual, predicted)\n",
    "        scores.append(rmse)\n",
    "    return scores, coef"
   ]
  },
  {
   "cell_type": "markdown",
   "metadata": {},
   "source": [
    "Make a prediction with the model coefficients"
   ]
  },
  {
   "cell_type": "code",
   "execution_count": 6,
   "metadata": {},
   "outputs": [],
   "source": [
    "def predict(row, coefficients):\n",
    "    y_predict = coefficients[0]\n",
    "    for i in range(len(row)-1):\n",
    "        y_predict += coefficients[i + 1] * row[i]\n",
    "    return y_predict"
   ]
  },
  {
   "cell_type": "markdown",
   "metadata": {},
   "source": [
    "Stochastic Gradient Descent to calculate coefficients."
   ]
  },
  {
   "cell_type": "code",
   "execution_count": 7,
   "metadata": {},
   "outputs": [],
   "source": [
    "def coefficients_sgd(train, l_rate, n_epoch):\n",
    "    coef = [0.0 for i in range(len(train[0]))]\n",
    "    for epoch in range(n_epoch):\n",
    "        for row in train:\n",
    "            y_predict = predict(row, coef)\n",
    "            error = y_predict - row[-1]\n",
    "            coef[0] = coef[0] - l_rate * error\n",
    "            for i in range(len(row)-1):\n",
    "                coef[i + 1] = coef[i + 1] - l_rate * error * row[i]\n",
    "                # print(l_rate, n_epoch, error)\n",
    "    return coef\n",
    "def linear_regression_sgd(train, test, l_rate, n_epoch):\n",
    "    predictions = []\n",
    "    coefficients = []\n",
    "    coef = coefficients_sgd(train, l_rate, n_epoch)\n",
    "    coefficients.append(coef)\n",
    "    for row in test:\n",
    "        y_predicted = predict(row, coef)\n",
    "        predictions.append(y_predicted)\n",
    "    return predictions, coefficients"
   ]
  },
  {
   "cell_type": "code",
   "execution_count": 8,
   "metadata": {},
   "outputs": [
    {
     "name": "stdout",
     "output_type": "stream",
     "text": [
      "[[-8.86, 20.6], [-2.89, 7.0], [-315.0, 202.0]]\n"
     ]
    }
   ],
   "source": [
    "# normalization\n",
    "minmax = dataset_minmax(data)\n",
    "normalize_dataset(data, minmax)\n",
    "print(minmax)"
   ]
  },
  {
   "cell_type": "code",
   "execution_count": 9,
   "metadata": {},
   "outputs": [
    {
     "name": "stdout",
     "output_type": "stream",
     "text": [
      "Scores: [0.1242385471777202, 0.0971492083477533, 0.08876805529806155, 0.1401804374346652, 0.0904091110271743]\n",
      "Coefficient: [[[0.746602115177666, -0.03228572405680656, -0.2780457511642585]], [[0.768601760547494, -0.06112109585489226, -0.3011681015944276]], [[0.7882189359071149, -0.11919973027214283, -0.298802954279897]], [[0.7415221073046586, -0.04191009703671416, -0.2527844092985433]], [[0.7715072220009079, -0.0728208513814503, -0.3008458385555848]]]\n",
      "Mean RMSE: 0.108\n"
     ]
    }
   ],
   "source": [
    "# print(data)\n",
    "# evaluate algorithm\n",
    "n_folds = 5\n",
    "l_rate = 0.01\n",
    "n_epoch = 50\n",
    "scores, coefficient = evaluate_algorithm(data, linear_regression_sgd, n_folds, l_rate, n_epoch)\n",
    "print('Scores: %s' % scores)\n",
    "print('Coefficient: %s' % coefficient)\n",
    "print('Mean RMSE: %.3f' % (sum(scores)/float(len(scores))))"
   ]
  },
  {
   "cell_type": "markdown",
   "metadata": {},
   "source": [
    "We choose the lowest scores --- the third one and the corresponding coefficient is [0.7690629822110212, -0.06494108067507023, -0.3096381403476266]. Then we draw the predicted Y_predict and actul Y_actul. The red dot is the predict value and the blue dot is the actual value."
   ]
  },
  {
   "cell_type": "code",
   "execution_count": 10,
   "metadata": {},
   "outputs": [
    {
     "data": {
      "text/plain": [
       "[<matplotlib.lines.Line2D at 0x12eece7d940>,\n",
       " <matplotlib.lines.Line2D at 0x12eece7da90>]"
      ]
     },
     "execution_count": 10,
     "metadata": {},
     "output_type": "execute_result"
    },
    {
     "data": {
      "image/png": "[encoded data removed]",
      "text/plain": [
       "<Figure size 432x288 with 1 Axes>"
      ]
     },
     "metadata": {
      "needs_background": "light"
     },
     "output_type": "display_data"
    }
   ],
   "source": [
    "coefficients = coefficient[2][0]\n",
    "y_predict = []\n",
    "y_actul = []\n",
    "for row in data:\n",
    "    y_p = coefficients[0]\n",
    "    y_actul.append(row[2])\n",
    "    for i in range(2):\n",
    "        y_p += coefficients[i + 1] * row[i]\n",
    "    y_predict.append(y_p)\n",
    "x = list(range(len(data)))\n",
    "plt.plot(x, y_predict, 'r--', x, y_actul, 'bs')"
   ]
  },
  {
   "cell_type": "markdown",
   "metadata": {},
   "source": [
    "From the picture, I find that the linear regression is not the best fit for this dataset. Most of those y value is predicted well while for the larger y value, the model does not fit well. While think of nonlinear regression, the neural network could be better used here.\n",
    "For the current model, the function is (after normalization):\n",
    "y = 0.77 - 0.065 * x1 - 0.310 * x2\n",
    "For the current model, the function is (before normalization):\n",
    "y = 25.73 - 1.14 * x1 - 16.19 * x2"
   ]
  }
 ],
 "metadata": {
  "kernelspec": {
   "display_name": "Python 3",
   "language": "python",
   "name": "python3"
  },
  "language_info": {
   "codemirror_mode": {
    "name": "ipython",
    "version": 3
   },
   "file_extension": ".py",
   "mimetype": "text/x-python",
   "name": "python",
   "nbconvert_exporter": "python",
   "pygments_lexer": "ipython3",
   "version": "3.7.3"
  }
 },
 "nbformat": 4,
 "nbformat_minor": 2
}
